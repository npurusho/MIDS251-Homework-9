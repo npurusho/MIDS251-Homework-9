{
  "cells": [
    {
      "cell_type": "code",
      "execution_count": 60,
      "id": "cace261f",
      "metadata": {
        "id": "cace261f"
      },
      "outputs": [],
      "source": [
        "import os\n",
        "import random\n",
        "import shutil\n",
        "import time\n",
        "import warnings\n",
        "\n",
        "import torch\n",
        "import torch.nn as nn\n",
        "import torch.backends.cudnn as cudnn\n",
        "import torch.optim\n",
        "\n",
        "import torch.utils.data\n",
        "import torchvision\n",
        "import torchvision.transforms as transforms\n",
        "import torchvision.datasets as datasets\n",
        "import torchvision.models as models"
      ]
    },
    {
      "cell_type": "code",
      "execution_count": 61,
      "id": "d693cd6c",
      "metadata": {
        "id": "d693cd6c"
      },
      "outputs": [],
      "source": [
        "SEED=1"
      ]
    },
    {
      "cell_type": "code",
      "execution_count": 62,
      "id": "363e2b75",
      "metadata": {
        "id": "363e2b75"
      },
      "outputs": [],
      "source": [
        "random.seed(SEED)\n",
        "torch.manual_seed(SEED)\n",
        "cudnn.deterministic = True"
      ]
    },
    {
      "cell_type": "code",
      "execution_count": 63,
      "id": "0d479743",
      "metadata": {
        "id": "0d479743"
      },
      "outputs": [],
      "source": [
        "START_EPOCH = 0"
      ]
    },
    {
      "cell_type": "markdown",
      "id": "c8ec40e9",
      "metadata": {
        "id": "c8ec40e9"
      },
      "source": [
        "### Set the architecture to resnet 18 below"
      ]
    },
    {
      "cell_type": "code",
      "execution_count": 64,
      "id": "97b1a0aa",
      "metadata": {
        "tags": [
          "parameters"
        ],
        "id": "97b1a0aa"
      },
      "outputs": [],
      "source": [
        "##########################\n",
        "ARCH = \"resnet18\"\n",
        "# set the architecture to RESNET 18\n",
        "# please look up how to do that\n",
        "########################\n",
        "EPOCHS = 5\n",
        "LR = 0.1\n",
        "MOMENTUM = 0.9\n",
        "WEIGHT_DECAY = 5e-4\n",
        "PRINT_FREQ = 50\n",
        "TRAIN_BATCH=128\n",
        "VAL_BATCH=128\n",
        "WORKERS=2\n",
        "# TRAINDIR=\"/workspace/data/imagenet2012/train\"\n",
        "# VALDIR=\"/workspace/data/imagenet2012/val\""
      ]
    },
    {
      "cell_type": "code",
      "execution_count": 32,
      "id": "09de23aa",
      "metadata": {
        "id": "09de23aa"
      },
      "outputs": [],
      "source": [
        "# TRAINDIR=\"/CINIC/train\"\n",
        "# VALDIR=\"/CINIC/valid\""
      ]
    },
    {
      "cell_type": "code",
      "source": [
        "from google.colab import drive\n",
        "drive.mount('/content/drive')"
      ],
      "metadata": {
        "colab": {
          "base_uri": "https://localhost:8080/"
        },
        "id": "he-fuLTb_NcS",
        "outputId": "a00d797e-382a-48f9-fc73-3e0de4228a09"
      },
      "id": "he-fuLTb_NcS",
      "execution_count": 33,
      "outputs": [
        {
          "output_type": "stream",
          "name": "stdout",
          "text": [
            "Drive already mounted at /content/drive; to attempt to forcibly remount, call drive.mount(\"/content/drive\", force_remount=True).\n"
          ]
        }
      ]
    },
    {
      "cell_type": "code",
      "source": [
        "!pip install kaggle"
      ],
      "metadata": {
        "colab": {
          "base_uri": "https://localhost:8080/"
        },
        "id": "odkEqfMs_SRE",
        "outputId": "58ca5904-f453-4fbd-8de4-c248baef6dc9"
      },
      "id": "odkEqfMs_SRE",
      "execution_count": 8,
      "outputs": [
        {
          "output_type": "stream",
          "name": "stdout",
          "text": [
            "Looking in indexes: https://pypi.org/simple, https://us-python.pkg.dev/colab-wheels/public/simple/\n",
            "Requirement already satisfied: kaggle in /usr/local/lib/python3.10/dist-packages (1.5.13)\n",
            "Requirement already satisfied: requests in /usr/local/lib/python3.10/dist-packages (from kaggle) (2.27.1)\n",
            "Requirement already satisfied: python-dateutil in /usr/local/lib/python3.10/dist-packages (from kaggle) (2.8.2)\n",
            "Requirement already satisfied: six>=1.10 in /usr/local/lib/python3.10/dist-packages (from kaggle) (1.16.0)\n",
            "Requirement already satisfied: tqdm in /usr/local/lib/python3.10/dist-packages (from kaggle) (4.65.0)\n",
            "Requirement already satisfied: python-slugify in /usr/local/lib/python3.10/dist-packages (from kaggle) (8.0.1)\n",
            "Requirement already satisfied: urllib3 in /usr/local/lib/python3.10/dist-packages (from kaggle) (1.26.15)\n",
            "Requirement already satisfied: certifi in /usr/local/lib/python3.10/dist-packages (from kaggle) (2022.12.7)\n",
            "Requirement already satisfied: text-unidecode>=1.3 in /usr/local/lib/python3.10/dist-packages (from python-slugify->kaggle) (1.3)\n",
            "Requirement already satisfied: idna<4,>=2.5 in /usr/local/lib/python3.10/dist-packages (from requests->kaggle) (3.4)\n",
            "Requirement already satisfied: charset-normalizer~=2.0.0 in /usr/local/lib/python3.10/dist-packages (from requests->kaggle) (2.0.12)\n"
          ]
        }
      ]
    },
    {
      "cell_type": "code",
      "source": [
        "!mv /content/drive/MyDrive/kaggle.json /content/drive/MyDrive/.kaggle/\n",
        "!cp -r /content/drive/MyDrive/.kaggle /root/\n",
        "!chmod 0600 /root/.kaggle/kaggle.json"
      ],
      "metadata": {
        "colab": {
          "base_uri": "https://localhost:8080/"
        },
        "id": "77DEWdLO_27E",
        "outputId": "e311d85f-2658-45ab-e72b-49223022266f"
      },
      "id": "77DEWdLO_27E",
      "execution_count": 9,
      "outputs": [
        {
          "output_type": "stream",
          "name": "stdout",
          "text": [
            "mv: cannot stat '/content/drive/MyDrive/kaggle.json': No such file or directory\n"
          ]
        }
      ]
    },
    {
      "cell_type": "code",
      "source": [
        "!kaggle datasets download -d mengcius/cinic10"
      ],
      "metadata": {
        "colab": {
          "base_uri": "https://localhost:8080/"
        },
        "id": "kZnHDOHR_zpP",
        "outputId": "7cb86b8c-bbcd-426e-88a7-1f67b2899143"
      },
      "id": "kZnHDOHR_zpP",
      "execution_count": 10,
      "outputs": [
        {
          "output_type": "stream",
          "name": "stdout",
          "text": [
            "Downloading cinic10.zip to /content\n",
            "100% 754M/754M [00:25<00:00, 45.6MB/s]\n",
            "100% 754M/754M [00:25<00:00, 31.5MB/s]\n"
          ]
        }
      ]
    },
    {
      "cell_type": "code",
      "source": [
        "!unzip /content/drive/MyDrive/cinic10.zip"
      ],
      "metadata": {
        "colab": {
          "base_uri": "https://localhost:8080/"
        },
        "id": "fxqYgstLCIU5",
        "outputId": "751a2a57-1934-40b5-a456-908cc989aedb"
      },
      "id": "fxqYgstLCIU5",
      "execution_count": 11,
      "outputs": [
        {
          "output_type": "stream",
          "name": "stdout",
          "text": [
            "Archive:  /content/drive/MyDrive/cinic10.zip\n",
            "replace README.md? [y]es, [n]o, [A]ll, [N]one, [r]ename: "
          ]
        }
      ]
    },
    {
      "cell_type": "markdown",
      "id": "e86c3188",
      "metadata": {
        "id": "e86c3188"
      },
      "source": [
        "### Check if cuda is available here"
      ]
    },
    {
      "cell_type": "code",
      "execution_count": 65,
      "id": "63a0499b",
      "metadata": {
        "id": "63a0499b",
        "outputId": "16623b84-d09f-4a8d-bfee-5281412deed9",
        "colab": {
          "base_uri": "https://localhost:8080/"
        }
      },
      "outputs": [
        {
          "output_type": "execute_result",
          "data": {
            "text/plain": [
              "True"
            ]
          },
          "metadata": {},
          "execution_count": 65
        }
      ],
      "source": [
        "# check if cuda is available in this cell\n",
        "# if it is not available, you should not go forward!\n",
        "torch.cuda.is_available()"
      ]
    },
    {
      "cell_type": "markdown",
      "id": "f83c35f6",
      "metadata": {
        "id": "f83c35f6"
      },
      "source": [
        "### Assign your GPU below"
      ]
    },
    {
      "cell_type": "code",
      "execution_count": 66,
      "id": "252a08a3",
      "metadata": {
        "id": "252a08a3"
      },
      "outputs": [],
      "source": [
        "# Assign your GPU in this cell\n",
        "GPU = torch.cuda.current_device()"
      ]
    },
    {
      "cell_type": "code",
      "execution_count": 67,
      "id": "d8e7ec23",
      "metadata": {
        "id": "d8e7ec23",
        "outputId": "4091639f-ceed-4838-ac2f-c534fa727b0c",
        "colab": {
          "base_uri": "https://localhost:8080/"
        }
      },
      "outputs": [
        {
          "output_type": "execute_result",
          "data": {
            "text/plain": [
              "device(type='cuda', index=0)"
            ]
          },
          "metadata": {},
          "execution_count": 67
        }
      ],
      "source": [
        "# set your active device to your GPU in this cell\n",
        "device = torch.device('cuda:0')\n",
        "\n",
        "device\n"
      ]
    },
    {
      "cell_type": "code",
      "execution_count": 68,
      "id": "1e5ddf20",
      "metadata": {
        "id": "1e5ddf20"
      },
      "outputs": [],
      "source": [
        "# enable algorithm optimization\n",
        "cudnn.benchmark = True"
      ]
    },
    {
      "cell_type": "markdown",
      "id": "7cdd6e12",
      "metadata": {
        "id": "7cdd6e12"
      },
      "source": [
        "### Fill in the heart of the train section below"
      ]
    },
    {
      "cell_type": "code",
      "execution_count": 69,
      "id": "70dbd4c4",
      "metadata": {
        "id": "70dbd4c4"
      },
      "outputs": [],
      "source": [
        "def train(train_loader, model, criterion, optimizer, epoch):\n",
        "    batch_time = AverageMeter('Time', ':6.3f')\n",
        "    data_time = AverageMeter('Data', ':6.3f')\n",
        "    losses = AverageMeter('Loss', ':.4e')\n",
        "    top1 = AverageMeter('Acc@1', ':6.2f')\n",
        "    top5 = AverageMeter('Acc@5', ':6.2f')\n",
        "    progress = ProgressMeter(\n",
        "        len(train_loader),\n",
        "        [batch_time, data_time, losses, top1, top5],\n",
        "        prefix=\"Epoch: [{}]\".format(epoch))\n",
        "\n",
        "    ######################\n",
        "    # switch mo(del to train mode here\n",
        "    model.train()\n",
        "    ################\n",
        "\n",
        "    end = time.time()\n",
        "    for i, (images, target) in enumerate(train_loader):\n",
        "        # measure data loading time\n",
        "        data_time.update(time.time() - end)\n",
        "\n",
        "        #####################\n",
        "        # send the images to cuda device\n",
        "        # send the target to cuda device\n",
        "        images = images.to(device)\n",
        "        target = target.to(device)\n",
        "\n",
        "\n",
        "        # compute output\n",
        "        output = model(images)\n",
        "\n",
        "        # compute loss \n",
        "        loss = criterion(output, target)\n",
        "\n",
        "\n",
        "        # measure accuracy and record loss\n",
        "        acc1, acc5 = accuracy(output, target, topk=(1, 5))\n",
        "        losses.update(loss.item(), images.size(0))\n",
        "        top1.update(acc1[0], images.size(0))\n",
        "        top5.update(acc5[0], images.size(0))\n",
        "\n",
        "        # compute gradient and do SGD step\n",
        "        \n",
        "        #### zero out gradients in the optimier\n",
        "        optimizer.zero_grad()\n",
        "        \n",
        "        ## backprop!\n",
        "        loss.backward()\n",
        "        \n",
        "        # update the weights!\n",
        "        optimizer.step()\n",
        "\n",
        "        # measure elapsed time\n",
        "        batch_time.update(time.time() - end)\n",
        "        end = time.time()\n",
        "\n",
        "        if i % PRINT_FREQ == 0:\n",
        "            progress.display(i)"
      ]
    },
    {
      "cell_type": "markdown",
      "id": "deb3b62e",
      "metadata": {
        "id": "deb3b62e"
      },
      "source": [
        "#### Fill in the validate section below"
      ]
    },
    {
      "cell_type": "code",
      "execution_count": 70,
      "id": "a3f276cc",
      "metadata": {
        "id": "a3f276cc"
      },
      "outputs": [],
      "source": [
        "\n",
        "def validate(val_loader, model, criterion):\n",
        "    batch_time = AverageMeter('Time', ':6.3f')\n",
        "    losses = AverageMeter('Loss', ':.4e')\n",
        "    top1 = AverageMeter('Acc@1', ':6.2f')\n",
        "    top5 = AverageMeter('Acc@5', ':6.2f')\n",
        "    progress = ProgressMeter(\n",
        "        len(val_loader),\n",
        "        [batch_time, losses, top1, top5],\n",
        "        prefix='Test: ')\n",
        "\n",
        "    # switch to evaluate mode\n",
        "    model.eval()\n",
        "\n",
        "    with torch.no_grad():\n",
        "        end = time.time()\n",
        "        for i, (images, target) in enumerate(val_loader):\n",
        "            \n",
        "            \n",
        "            ### send the images and target to cuda\n",
        "            images = images.to(device)\n",
        "            target = target.to(device)\n",
        "\n",
        "            # compute output\n",
        "            output = model(images)\n",
        "\n",
        "            # compute loss\n",
        "            loss  = criterion(output, target)\n",
        "\n",
        "\n",
        "            # measure accuracy and record loss\n",
        "            acc1, acc5 = accuracy(output, target, topk=(1, 5))\n",
        "            losses.update(loss.item(), images.size(0))\n",
        "            top1.update(acc1[0], images.size(0))\n",
        "            top5.update(acc5[0], images.size(0))\n",
        "\n",
        "            # measure elapsed time\n",
        "            batch_time.update(time.time() - end)\n",
        "            end = time.time()\n",
        "\n",
        "            if i % PRINT_FREQ == 0:\n",
        "                progress.display(i)\n",
        "\n",
        "        # TODO: this should also be done with the ProgressMeter\n",
        "        print(' * Acc@1 {top1.avg:.3f} Acc@5 {top5.avg:.3f}'\n",
        "              .format(top1=top1, top5=top5))\n",
        "\n",
        "    return top1.avg"
      ]
    },
    {
      "cell_type": "markdown",
      "id": "fbe49226",
      "metadata": {
        "id": "fbe49226"
      },
      "source": [
        "### Save the checkpoint"
      ]
    },
    {
      "cell_type": "code",
      "execution_count": 18,
      "id": "ff8a4159",
      "metadata": {
        "id": "ff8a4159"
      },
      "outputs": [],
      "source": [
        "def save_checkpoint(state, is_best, filename='checkpoint.pth.tar'):\n",
        "    # save the model state!\n",
        "    #torch.save(state, filename)\n",
        "    if is_best:\n",
        "        shutil.copyfile(filename, 'model_best.pth.tar')"
      ]
    },
    {
      "cell_type": "code",
      "execution_count": 71,
      "id": "1cd7ea3a",
      "metadata": {
        "id": "1cd7ea3a"
      },
      "outputs": [],
      "source": [
        "\n",
        "class AverageMeter(object):\n",
        "    \"\"\"Computes and stores the average and current value\"\"\"\n",
        "    def __init__(self, name, fmt=':f'):\n",
        "        self.name = name\n",
        "        self.fmt = fmt\n",
        "        self.reset()\n",
        "\n",
        "    def reset(self):\n",
        "        self.val = 0\n",
        "        self.avg = 0\n",
        "        self.sum = 0\n",
        "        self.count = 0\n",
        "\n",
        "    def update(self, val, n=1):\n",
        "        self.val = val\n",
        "        self.sum += val * n\n",
        "        self.count += n\n",
        "        self.avg = self.sum / self.count\n",
        "\n",
        "    def __str__(self):\n",
        "        fmtstr = '{name} {val' + self.fmt + '} ({avg' + self.fmt + '})'\n",
        "        return fmtstr.format(**self.__dict__)"
      ]
    },
    {
      "cell_type": "code",
      "execution_count": 72,
      "id": "e1da87ab",
      "metadata": {
        "id": "e1da87ab"
      },
      "outputs": [],
      "source": [
        "class ProgressMeter(object):\n",
        "    def __init__(self, num_batches, meters, prefix=\"\"):\n",
        "        self.batch_fmtstr = self._get_batch_fmtstr(num_batches)\n",
        "        self.meters = meters\n",
        "        self.prefix = prefix\n",
        "\n",
        "    def display(self, batch):\n",
        "        entries = [self.prefix + self.batch_fmtstr.format(batch)]\n",
        "        entries += [str(meter) for meter in self.meters]\n",
        "        print('\\t'.join(entries))\n",
        "\n",
        "    def _get_batch_fmtstr(self, num_batches):\n",
        "        num_digits = len(str(num_batches // 1))\n",
        "        fmt = '{:' + str(num_digits) + 'd}'\n",
        "        return '[' + fmt + '/' + fmt.format(num_batches) + ']'"
      ]
    },
    {
      "cell_type": "code",
      "execution_count": 73,
      "id": "00211030",
      "metadata": {
        "id": "00211030"
      },
      "outputs": [],
      "source": [
        "# if we are adjusting the LR manually use this\n",
        "def adjust_learning_rate(optimizer, epoch):\n",
        "    \"\"\"Sets the learning rate to the initial LR decayed by 10 every 30 epochs\"\"\"\n",
        "    lr = LR * (0.1 ** (epoch // 30))\n",
        "    for param_group in optimizer.param_groups:\n",
        "        param_group['lr'] = lr"
      ]
    },
    {
      "cell_type": "code",
      "execution_count": 74,
      "id": "da2c1382",
      "metadata": {
        "id": "da2c1382"
      },
      "outputs": [],
      "source": [
        "def accuracy(output, target, topk=(1,)):\n",
        "    \"\"\"Computes the accuracy over the k top predictions for the specified values of k\"\"\"\n",
        "    with torch.no_grad():\n",
        "        maxk = max(topk)\n",
        "        batch_size = target.size(0)\n",
        "\n",
        "        _, pred = output.topk(maxk, 1, True, True)\n",
        "        pred = pred.t()\n",
        "        correct = pred.eq(target.view(1, -1).expand_as(pred))\n",
        "\n",
        "        res = []\n",
        "        for k in topk:\n",
        "            correct_k = correct[:k].reshape(-1).float().sum(0, keepdim=True)\n",
        "            res.append(correct_k.mul_(100.0 / batch_size))\n",
        "        return res"
      ]
    },
    {
      "cell_type": "code",
      "execution_count": 75,
      "id": "5c29e7a1",
      "metadata": {
        "id": "5c29e7a1"
      },
      "outputs": [],
      "source": [
        "imagenet_mean_RGB = [0.47889522, 0.47227842, 0.43047404]\n",
        "imagenet_std_RGB = [0.229, 0.224, 0.225]\n",
        "cinic_mean_RGB = [0.47889522, 0.47227842, 0.43047404]\n",
        "cinic_std_RGB = [0.24205776, 0.23828046, 0.25874835]\n",
        "cifar_mean_RGB = [0.4914, 0.4822, 0.4465]\n",
        "cifar_std_RGB = [0.2023, 0.1994, 0.2010]"
      ]
    },
    {
      "cell_type": "code",
      "execution_count": 76,
      "id": "e1a61c02",
      "metadata": {
        "id": "e1a61c02"
      },
      "outputs": [],
      "source": [
        "normalize = transforms.Normalize(mean=cifar_mean_RGB, std=cifar_std_RGB)"
      ]
    },
    {
      "cell_type": "code",
      "execution_count": 77,
      "id": "47dd3e49",
      "metadata": {
        "id": "47dd3e49"
      },
      "outputs": [],
      "source": [
        "IMG_SIZE = 32\n",
        "# IMG_SIZE = 224\n"
      ]
    },
    {
      "cell_type": "markdown",
      "id": "de4387cb",
      "metadata": {
        "id": "de4387cb"
      },
      "source": [
        "### Initialize the model using the architecture you selected above"
      ]
    },
    {
      "cell_type": "code",
      "execution_count": 78,
      "id": "b1abcc33",
      "metadata": {
        "id": "b1abcc33",
        "colab": {
          "base_uri": "https://localhost:8080/"
        },
        "outputId": "06bfac20-73a4-405a-ee38-7579bc816332"
      },
      "outputs": [
        {
          "output_type": "stream",
          "name": "stderr",
          "text": [
            "/usr/local/lib/python3.10/dist-packages/torchvision/models/_utils.py:208: UserWarning: The parameter 'pretrained' is deprecated since 0.13 and may be removed in the future, please use 'weights' instead.\n",
            "  warnings.warn(\n",
            "/usr/local/lib/python3.10/dist-packages/torchvision/models/_utils.py:223: UserWarning: Arguments other than a weight enum or `None` for 'weights' are deprecated since 0.13 and may be removed in the future. The current behavior is equivalent to passing `weights=ResNet18_Weights.IMAGENET1K_V1`. You can also use `weights=ResNet18_Weights.DEFAULT` to get the most up-to-date weights.\n",
            "  warnings.warn(msg)\n"
          ]
        }
      ],
      "source": [
        "# select the model\n",
        "if ARCH == \"resnet18\":\n",
        "    model = models.resnet18(pretrained=True)"
      ]
    },
    {
      "cell_type": "markdown",
      "id": "2db1bb69",
      "metadata": {
        "id": "2db1bb69"
      },
      "source": [
        "### Send the model to the cuda device"
      ]
    },
    {
      "cell_type": "code",
      "execution_count": 79,
      "id": "7d23ccb4",
      "metadata": {
        "id": "7d23ccb4"
      },
      "outputs": [],
      "source": [
        "# send the model to the cuda device.. \n",
        "model = model.to(device)"
      ]
    },
    {
      "cell_type": "markdown",
      "id": "47a8eb8d",
      "metadata": {
        "id": "47a8eb8d"
      },
      "source": [
        "### Instantiate the loss to cross entropy"
      ]
    },
    {
      "cell_type": "code",
      "execution_count": 80,
      "id": "a49ae3c9",
      "metadata": {
        "id": "a49ae3c9"
      },
      "outputs": [],
      "source": [
        "# use the cross-entropy loss\n",
        "criterion = nn.CrossEntropyLoss()"
      ]
    },
    {
      "cell_type": "markdown",
      "id": "8a49045a",
      "metadata": {
        "id": "8a49045a"
      },
      "source": [
        "### Instantiate the optimizer to SGD"
      ]
    },
    {
      "cell_type": "code",
      "execution_count": 81,
      "id": "aa3a04dd",
      "metadata": {
        "id": "aa3a04dd"
      },
      "outputs": [],
      "source": [
        "# use SGD .. use the momentum and weight decay vars\n",
        "optimizer = torch.optim.SGD(model.parameters(), lr=LR, momentum=MOMENTUM, weight_decay=WEIGHT_DECAY)"
      ]
    },
    {
      "cell_type": "markdown",
      "id": "f93ef11d",
      "metadata": {
        "id": "f93ef11d"
      },
      "source": [
        "#### Create the learning rate scheduler"
      ]
    },
    {
      "cell_type": "code",
      "execution_count": 82,
      "id": "a0e1727a",
      "metadata": {
        "id": "a0e1727a"
      },
      "outputs": [],
      "source": [
        "# use CosineAnnealingLR\n",
        "scheduler = torch.optim.lr_scheduler.CosineAnnealingLR(optimizer, T_max=100)"
      ]
    },
    {
      "cell_type": "code",
      "execution_count": 83,
      "id": "2fe08caa",
      "metadata": {
        "id": "2fe08caa"
      },
      "outputs": [],
      "source": [
        "transform_train = transforms.Compose([\n",
        "    transforms.RandomCrop(32, padding=4),\n",
        "    transforms.RandomHorizontalFlip(),\n",
        "    transforms.ToTensor(),\n",
        "    transforms.Normalize(cifar_mean_RGB, cifar_std_RGB),\n",
        "])"
      ]
    },
    {
      "cell_type": "markdown",
      "id": "236528e1",
      "metadata": {
        "id": "236528e1"
      },
      "source": [
        "### Create the train dataset object"
      ]
    },
    {
      "cell_type": "code",
      "execution_count": 84,
      "id": "7c29f6b1",
      "metadata": {
        "id": "7c29f6b1"
      },
      "outputs": [],
      "source": [
        "# use torchvision.datasets.CIFAR10\n",
        "#train_dataset = torchvision.datasets.CIFAR10('./datasets', train=True, \n",
        "#                                         download=True, transform=transform_train)\n",
        "train_dataset = torchvision.datasets.ImageFolder(root='/content/train', transform=transform_train)"
      ]
    },
    {
      "cell_type": "code",
      "execution_count": 85,
      "id": "63dfe3c0",
      "metadata": {
        "id": "63dfe3c0"
      },
      "outputs": [],
      "source": [
        "transform_val = transforms.Compose([\n",
        "    transforms.ToTensor(),\n",
        "    transforms.Normalize(cifar_mean_RGB, cifar_std_RGB),\n",
        "])"
      ]
    },
    {
      "cell_type": "markdown",
      "id": "38ca6c39",
      "metadata": {
        "id": "38ca6c39"
      },
      "source": [
        "### Create the val dataset object"
      ]
    },
    {
      "cell_type": "code",
      "execution_count": 86,
      "id": "42d58f82",
      "metadata": {
        "id": "42d58f82"
      },
      "outputs": [],
      "source": [
        "# use torchvision.datasets.CIFAR10\n",
        "#val_dataset = torchvision.datasets.CIFAR10(root='./datasets', train=False,\n",
        "#                                        download=True, transform=transform_val)\n",
        "val_dataset = torchvision.datasets.ImageFolder(root='/content/valid', transform=transform_val)"
      ]
    },
    {
      "cell_type": "markdown",
      "id": "3a291660",
      "metadata": {
        "id": "3a291660"
      },
      "source": [
        "### Create the train dataloader"
      ]
    },
    {
      "cell_type": "code",
      "execution_count": 87,
      "id": "574373be",
      "metadata": {
        "id": "574373be"
      },
      "outputs": [],
      "source": [
        "# fill this in\n",
        "train_loader = torch.utils.data.DataLoader(train_dataset, batch_size=TRAIN_BATCH, \n",
        "                                           shuffle=True, num_workers=WORKERS)"
      ]
    },
    {
      "cell_type": "markdown",
      "id": "b280c6e0",
      "metadata": {
        "id": "b280c6e0"
      },
      "source": [
        "### Create the c"
      ]
    },
    {
      "cell_type": "code",
      "execution_count": 88,
      "id": "6aa623fe",
      "metadata": {
        "id": "6aa623fe"
      },
      "outputs": [],
      "source": [
        "# fill this in..\n",
        "val_loader = torch.utils.data.DataLoader(val_dataset, batch_size=VAL_BATCH, \n",
        "                                          shuffle=False, num_workers=WORKERS)"
      ]
    },
    {
      "cell_type": "code",
      "execution_count": 89,
      "id": "7cfa6766",
      "metadata": {
        "id": "7cfa6766"
      },
      "outputs": [],
      "source": [
        "best_acc1 = 0"
      ]
    },
    {
      "cell_type": "code",
      "source": [],
      "metadata": {
        "id": "kz9RQ5pHyQBg"
      },
      "id": "kz9RQ5pHyQBg",
      "execution_count": 89,
      "outputs": []
    },
    {
      "cell_type": "code",
      "execution_count": 90,
      "id": "0d0620a6",
      "metadata": {
        "id": "0d0620a6",
        "colab": {
          "base_uri": "https://localhost:8080/"
        },
        "outputId": "8a94cb44-34bc-4774-9aba-3053ce2aa6dd"
      },
      "outputs": [
        {
          "output_type": "stream",
          "name": "stdout",
          "text": [
            "Epoch: [0][  0/704]\tTime  0.337 ( 0.337)\tData  0.291 ( 0.291)\tLoss 1.3703e+01 (1.3703e+01)\tAcc@1   0.00 (  0.00)\tAcc@5   0.78 (  0.78)\n",
            "Epoch: [0][ 50/704]\tTime  0.122 ( 0.084)\tData  0.079 ( 0.054)\tLoss 3.2274e+00 (4.5982e+00)\tAcc@1  13.28 ( 10.42)\tAcc@5  58.59 ( 50.08)\n",
            "Epoch: [0][100/704]\tTime  0.043 ( 0.097)\tData  0.007 ( 0.066)\tLoss 2.9926e+00 (3.6924e+00)\tAcc@1  14.06 ( 13.06)\tAcc@5  60.16 ( 57.06)\n",
            "Epoch: [0][150/704]\tTime  0.112 ( 0.088)\tData  0.095 ( 0.059)\tLoss 2.5972e+00 (3.3063e+00)\tAcc@1  17.19 ( 14.25)\tAcc@5  64.06 ( 60.04)\n",
            "Epoch: [0][200/704]\tTime  0.124 ( 0.086)\tData  0.101 ( 0.058)\tLoss 2.3871e+00 (3.0754e+00)\tAcc@1  14.06 ( 15.13)\tAcc@5  73.44 ( 62.80)\n",
            "Epoch: [0][250/704]\tTime  0.242 ( 0.088)\tData  0.206 ( 0.059)\tLoss 1.9734e+00 (2.9078e+00)\tAcc@1  28.12 ( 15.97)\tAcc@5  85.16 ( 65.42)\n",
            "Epoch: [0][300/704]\tTime  0.059 ( 0.089)\tData  0.040 ( 0.061)\tLoss 1.9883e+00 (2.7769e+00)\tAcc@1  21.09 ( 16.80)\tAcc@5  80.47 ( 67.40)\n",
            "Epoch: [0][350/704]\tTime  0.083 ( 0.087)\tData  0.059 ( 0.060)\tLoss 2.1513e+00 (2.6847e+00)\tAcc@1  22.66 ( 17.60)\tAcc@5  77.34 ( 68.83)\n",
            "Epoch: [0][400/704]\tTime  0.066 ( 0.086)\tData  0.003 ( 0.059)\tLoss 1.9458e+00 (2.6023e+00)\tAcc@1  25.00 ( 18.26)\tAcc@5  85.94 ( 70.39)\n",
            "Epoch: [0][450/704]\tTime  0.041 ( 0.089)\tData  0.001 ( 0.060)\tLoss 2.1153e+00 (2.5431e+00)\tAcc@1  23.44 ( 18.70)\tAcc@5  75.78 ( 71.22)\n",
            "Epoch: [0][500/704]\tTime  0.063 ( 0.088)\tData  0.045 ( 0.060)\tLoss 1.9569e+00 (2.4881e+00)\tAcc@1  23.44 ( 19.24)\tAcc@5  87.50 ( 72.17)\n",
            "Epoch: [0][550/704]\tTime  0.035 ( 0.087)\tData  0.002 ( 0.059)\tLoss 1.9963e+00 (2.4392e+00)\tAcc@1  16.41 ( 19.80)\tAcc@5  81.25 ( 73.12)\n",
            "Epoch: [0][600/704]\tTime  0.184 ( 0.088)\tData  0.161 ( 0.059)\tLoss 1.9171e+00 (2.3949e+00)\tAcc@1  24.22 ( 20.44)\tAcc@5  83.59 ( 73.99)\n",
            "Epoch: [0][650/704]\tTime  0.121 ( 0.089)\tData  0.101 ( 0.060)\tLoss 1.9364e+00 (2.3533e+00)\tAcc@1  30.47 ( 21.15)\tAcc@5  77.34 ( 74.77)\n",
            "Epoch: [0][700/704]\tTime  0.119 ( 0.088)\tData  0.100 ( 0.059)\tLoss 1.8825e+00 (2.3187e+00)\tAcc@1  28.12 ( 21.74)\tAcc@5  83.59 ( 75.46)\n",
            "Test: [  0/704]\tTime  0.242 ( 0.242)\tLoss 1.1451e+00 (1.1451e+00)\tAcc@1  74.22 ( 74.22)\tAcc@5  85.94 ( 85.94)\n",
            "Test: [ 50/704]\tTime  0.112 ( 0.063)\tLoss 8.5079e-01 (1.0420e+00)\tAcc@1  82.03 ( 74.92)\tAcc@5  97.66 ( 91.19)\n",
            "Test: [100/704]\tTime  0.134 ( 0.073)\tLoss 2.3069e+00 (1.4269e+00)\tAcc@1   0.00 ( 52.30)\tAcc@5  84.38 ( 88.71)\n",
            "Test: [150/704]\tTime  0.101 ( 0.072)\tLoss 2.5072e+00 (1.7524e+00)\tAcc@1   2.34 ( 35.18)\tAcc@5  60.94 ( 83.99)\n",
            "Test: [200/704]\tTime  0.093 ( 0.068)\tLoss 2.4914e+00 (1.9475e+00)\tAcc@1   1.56 ( 27.19)\tAcc@5  61.72 ( 77.36)\n",
            "Test: [250/704]\tTime  0.099 ( 0.066)\tLoss 2.1568e+00 (1.9945e+00)\tAcc@1   3.91 ( 22.80)\tAcc@5  88.28 ( 79.16)\n",
            "Test: [300/704]\tTime  0.029 ( 0.065)\tLoss 1.7868e+00 (1.9772e+00)\tAcc@1  19.53 ( 22.00)\tAcc@5  94.53 ( 81.51)\n",
            "Test: [350/704]\tTime  0.119 ( 0.070)\tLoss 1.7211e+00 (1.9280e+00)\tAcc@1  26.56 ( 24.26)\tAcc@5  92.19 ( 83.16)\n",
            "Test: [400/704]\tTime  0.014 ( 0.068)\tLoss 1.8546e+00 (1.9222e+00)\tAcc@1  14.84 ( 24.01)\tAcc@5  96.88 ( 84.68)\n",
            "Test: [450/704]\tTime  0.075 ( 0.067)\tLoss 2.0030e+00 (1.9275e+00)\tAcc@1  30.47 ( 24.23)\tAcc@5  85.94 ( 85.23)\n",
            "Test: [500/704]\tTime  0.111 ( 0.066)\tLoss 1.3881e+00 (1.9199e+00)\tAcc@1  53.91 ( 25.62)\tAcc@5  89.84 ( 85.43)\n",
            "Test: [550/704]\tTime  0.102 ( 0.067)\tLoss 1.7754e+00 (1.8821e+00)\tAcc@1  44.53 ( 28.25)\tAcc@5  81.25 ( 85.51)\n",
            "Test: [600/704]\tTime  0.017 ( 0.068)\tLoss 2.3238e+00 (1.8960e+00)\tAcc@1   0.00 ( 27.10)\tAcc@5  74.22 ( 85.11)\n",
            "Test: [650/704]\tTime  0.036 ( 0.067)\tLoss 1.6987e+00 (1.9040e+00)\tAcc@1  46.09 ( 26.60)\tAcc@5  89.06 ( 84.89)\n",
            "Test: [700/704]\tTime  0.011 ( 0.067)\tLoss 1.3365e+00 (1.8728e+00)\tAcc@1  66.41 ( 28.82)\tAcc@5  92.19 ( 85.33)\n",
            " * Acc@1 28.921 Acc@5 85.356\n",
            "lr: [0.09997532801828658]\n",
            "Epoch: [1][  0/704]\tTime  0.335 ( 0.335)\tData  0.277 ( 0.277)\tLoss 1.8223e+00 (1.8223e+00)\tAcc@1  34.38 ( 34.38)\tAcc@5  84.38 ( 84.38)\n",
            "Epoch: [1][ 50/704]\tTime  0.160 ( 0.097)\tData  0.128 ( 0.061)\tLoss 1.7597e+00 (1.8583e+00)\tAcc@1  30.47 ( 30.09)\tAcc@5  85.16 ( 84.44)\n",
            "Epoch: [1][100/704]\tTime  0.066 ( 0.092)\tData  0.042 ( 0.059)\tLoss 1.8719e+00 (1.8427e+00)\tAcc@1  27.34 ( 30.52)\tAcc@5  86.72 ( 85.25)\n",
            "Epoch: [1][150/704]\tTime  0.079 ( 0.085)\tData  0.055 ( 0.054)\tLoss 1.7275e+00 (1.8291e+00)\tAcc@1  33.59 ( 31.29)\tAcc@5  84.38 ( 85.54)\n",
            "Epoch: [1][200/704]\tTime  0.058 ( 0.081)\tData  0.032 ( 0.051)\tLoss 1.7808e+00 (1.8207e+00)\tAcc@1  33.59 ( 31.75)\tAcc@5  85.16 ( 85.63)\n",
            "Epoch: [1][250/704]\tTime  0.058 ( 0.086)\tData  0.001 ( 0.055)\tLoss 1.7179e+00 (1.8141e+00)\tAcc@1  38.28 ( 32.19)\tAcc@5  89.84 ( 85.81)\n",
            "Epoch: [1][300/704]\tTime  0.117 ( 0.084)\tData  0.091 ( 0.054)\tLoss 1.8080e+00 (1.8053e+00)\tAcc@1  35.16 ( 32.51)\tAcc@5  84.38 ( 86.06)\n",
            "Epoch: [1][350/704]\tTime  0.124 ( 0.082)\tData  0.100 ( 0.052)\tLoss 2.0829e+00 (1.8187e+00)\tAcc@1  27.34 ( 32.31)\tAcc@5  75.00 ( 85.46)\n",
            "Epoch: [1][400/704]\tTime  0.212 ( 0.081)\tData  0.192 ( 0.051)\tLoss 2.0817e+00 (1.8497e+00)\tAcc@1  20.31 ( 31.17)\tAcc@5  79.69 ( 84.32)\n",
            "Epoch: [1][450/704]\tTime  0.111 ( 0.084)\tData  0.093 ( 0.054)\tLoss 1.8847e+00 (1.8638e+00)\tAcc@1  33.59 ( 30.61)\tAcc@5  82.81 ( 83.96)\n",
            "Epoch: [1][500/704]\tTime  0.059 ( 0.082)\tData  0.037 ( 0.053)\tLoss 1.8639e+00 (1.8668e+00)\tAcc@1  26.56 ( 30.33)\tAcc@5  83.59 ( 83.95)\n",
            "Epoch: [1][550/704]\tTime  0.117 ( 0.081)\tData  0.099 ( 0.052)\tLoss 1.8628e+00 (1.8679e+00)\tAcc@1  29.69 ( 30.18)\tAcc@5  85.16 ( 83.98)\n",
            "Epoch: [1][600/704]\tTime  0.197 ( 0.083)\tData  0.169 ( 0.053)\tLoss 1.8960e+00 (1.8667e+00)\tAcc@1  29.69 ( 30.20)\tAcc@5  85.16 ( 84.03)\n",
            "Epoch: [1][650/704]\tTime  0.092 ( 0.083)\tData  0.075 ( 0.054)\tLoss 1.8134e+00 (1.8626e+00)\tAcc@1  32.81 ( 30.31)\tAcc@5  83.59 ( 84.16)\n",
            "Epoch: [1][700/704]\tTime  0.094 ( 0.082)\tData  0.077 ( 0.053)\tLoss 1.8615e+00 (1.8574e+00)\tAcc@1  31.25 ( 30.56)\tAcc@5  83.59 ( 84.35)\n",
            "Test: [  0/704]\tTime  0.263 ( 0.263)\tLoss 1.4812e+00 (1.4812e+00)\tAcc@1  46.09 ( 46.09)\tAcc@5  85.94 ( 85.94)\n",
            "Test: [ 50/704]\tTime  0.068 ( 0.054)\tLoss 1.2667e+00 (1.4251e+00)\tAcc@1  42.97 ( 41.99)\tAcc@5  96.88 ( 91.54)\n",
            "Test: [100/704]\tTime  0.098 ( 0.061)\tLoss 9.0432e-01 (1.2956e+00)\tAcc@1  83.59 ( 52.94)\tAcc@5  96.88 ( 93.13)\n",
            "Test: [150/704]\tTime  0.085 ( 0.066)\tLoss 1.7452e+00 (1.2838e+00)\tAcc@1  40.62 ( 57.49)\tAcc@5  92.19 ( 93.18)\n",
            "Test: [200/704]\tTime  0.012 ( 0.062)\tLoss 1.8225e+00 (1.4313e+00)\tAcc@1  38.28 ( 51.22)\tAcc@5  90.62 ( 92.34)\n",
            "Test: [250/704]\tTime  0.011 ( 0.060)\tLoss 1.9392e+00 (1.5114e+00)\tAcc@1  39.84 ( 48.61)\tAcc@5  86.72 ( 91.87)\n",
            "Test: [300/704]\tTime  0.093 ( 0.058)\tLoss 2.3261e+00 (1.5828e+00)\tAcc@1   2.34 ( 43.76)\tAcc@5  83.59 ( 91.76)\n",
            "Test: [350/704]\tTime  0.150 ( 0.059)\tLoss 2.2003e+00 (1.6631e+00)\tAcc@1   2.34 ( 38.10)\tAcc@5  86.72 ( 90.94)\n",
            "Test: [400/704]\tTime  0.092 ( 0.061)\tLoss 2.3037e+00 (1.7215e+00)\tAcc@1   3.91 ( 34.04)\tAcc@5  77.34 ( 89.56)\n",
            "Test: [450/704]\tTime  0.019 ( 0.060)\tLoss 1.5927e+00 (1.7461e+00)\tAcc@1  57.03 ( 33.88)\tAcc@5  88.28 ( 88.27)\n",
            "Test: [500/704]\tTime  0.011 ( 0.059)\tLoss 1.3960e+00 (1.7274e+00)\tAcc@1  62.50 ( 36.32)\tAcc@5  92.97 ( 87.86)\n",
            "Test: [550/704]\tTime  0.019 ( 0.058)\tLoss 2.0022e+00 (1.7142e+00)\tAcc@1  38.28 ( 37.87)\tAcc@5  79.69 ( 87.81)\n",
            "Test: [600/704]\tTime  0.129 ( 0.059)\tLoss 1.7716e+00 (1.6964e+00)\tAcc@1  31.25 ( 38.49)\tAcc@5  87.50 ( 87.99)\n",
            "Test: [650/704]\tTime  0.057 ( 0.060)\tLoss 2.1449e+00 (1.6921e+00)\tAcc@1   0.00 ( 37.62)\tAcc@5  82.81 ( 88.13)\n",
            "Test: [700/704]\tTime  0.011 ( 0.060)\tLoss 1.9728e+00 (1.7145e+00)\tAcc@1   0.00 ( 34.97)\tAcc@5  85.94 ( 88.00)\n",
            " * Acc@1 34.864 Acc@5 88.008\n",
            "lr: [0.09990133642141358]\n",
            "Epoch: [2][  0/704]\tTime  0.321 ( 0.321)\tData  0.289 ( 0.289)\tLoss 1.6901e+00 (1.6901e+00)\tAcc@1  37.50 ( 37.50)\tAcc@5  87.50 ( 87.50)\n",
            "Epoch: [2][ 50/704]\tTime  0.056 ( 0.074)\tData  0.032 ( 0.047)\tLoss 1.7500e+00 (1.8362e+00)\tAcc@1  29.69 ( 31.54)\tAcc@5  91.41 ( 85.92)\n",
            "Epoch: [2][100/704]\tTime  0.221 ( 0.078)\tData  0.198 ( 0.049)\tLoss 1.7056e+00 (1.7967e+00)\tAcc@1  29.69 ( 32.63)\tAcc@5  90.62 ( 86.36)\n",
            "Epoch: [2][150/704]\tTime  0.046 ( 0.084)\tData  0.021 ( 0.054)\tLoss 1.6265e+00 (1.7733e+00)\tAcc@1  38.28 ( 33.47)\tAcc@5  88.28 ( 86.74)\n",
            "Epoch: [2][200/704]\tTime  0.064 ( 0.080)\tData  0.041 ( 0.052)\tLoss 1.8242e+00 (1.7649e+00)\tAcc@1  33.59 ( 33.99)\tAcc@5  83.59 ( 86.96)\n",
            "Epoch: [2][250/704]\tTime  0.049 ( 0.078)\tData  0.026 ( 0.051)\tLoss 1.9577e+00 (1.7572e+00)\tAcc@1  30.47 ( 34.33)\tAcc@5  75.78 ( 87.17)\n",
            "Epoch: [2][300/704]\tTime  0.204 ( 0.080)\tData  0.177 ( 0.053)\tLoss 1.7025e+00 (1.7493e+00)\tAcc@1  33.59 ( 34.59)\tAcc@5  89.06 ( 87.39)\n",
            "Epoch: [2][350/704]\tTime  0.109 ( 0.082)\tData  0.091 ( 0.055)\tLoss 1.6394e+00 (1.7378e+00)\tAcc@1  35.16 ( 35.09)\tAcc@5  89.06 ( 87.62)\n",
            "Epoch: [2][400/704]\tTime  0.076 ( 0.080)\tData  0.052 ( 0.054)\tLoss 1.7069e+00 (1.7314e+00)\tAcc@1  33.59 ( 35.29)\tAcc@5  89.06 ( 87.76)\n",
            "Epoch: [2][450/704]\tTime  0.049 ( 0.079)\tData  0.001 ( 0.053)\tLoss 1.5951e+00 (1.7254e+00)\tAcc@1  42.97 ( 35.49)\tAcc@5  85.16 ( 87.92)\n",
            "Epoch: [2][500/704]\tTime  0.053 ( 0.083)\tData  0.001 ( 0.056)\tLoss 1.6620e+00 (1.7200e+00)\tAcc@1  34.38 ( 35.81)\tAcc@5  93.75 ( 88.02)\n",
            "Epoch: [2][550/704]\tTime  0.048 ( 0.082)\tData  0.030 ( 0.055)\tLoss 1.6754e+00 (1.7089e+00)\tAcc@1  38.28 ( 36.35)\tAcc@5  89.84 ( 88.16)\n",
            "Epoch: [2][600/704]\tTime  0.033 ( 0.081)\tData  0.018 ( 0.054)\tLoss 1.6448e+00 (1.7020e+00)\tAcc@1  42.97 ( 36.65)\tAcc@5  89.06 ( 88.37)\n",
            "Epoch: [2][650/704]\tTime  0.179 ( 0.080)\tData  0.110 ( 0.054)\tLoss 1.4056e+00 (1.6944e+00)\tAcc@1  49.22 ( 36.98)\tAcc@5  93.75 ( 88.50)\n",
            "Epoch: [2][700/704]\tTime  0.084 ( 0.082)\tData  0.064 ( 0.056)\tLoss 1.6550e+00 (1.6892e+00)\tAcc@1  39.06 ( 37.16)\tAcc@5  92.19 ( 88.63)\n",
            "Test: [  0/704]\tTime  0.257 ( 0.257)\tLoss 1.6055e+00 (1.6055e+00)\tAcc@1  38.28 ( 38.28)\tAcc@5  92.97 ( 92.97)\n",
            "Test: [ 50/704]\tTime  0.012 ( 0.053)\tLoss 1.6450e+00 (1.6356e+00)\tAcc@1  25.00 ( 31.94)\tAcc@5  96.88 ( 93.43)\n",
            "Test: [100/704]\tTime  0.068 ( 0.052)\tLoss 7.0115e-01 (1.3916e+00)\tAcc@1  79.69 ( 43.57)\tAcc@5 100.00 ( 95.19)\n",
            "Test: [150/704]\tTime  0.011 ( 0.051)\tLoss 1.9836e+00 (1.3043e+00)\tAcc@1  20.31 ( 48.81)\tAcc@5  91.41 ( 95.56)\n",
            "Test: [200/704]\tTime  0.023 ( 0.054)\tLoss 1.9557e+00 (1.4891e+00)\tAcc@1  17.19 ( 41.46)\tAcc@5  94.53 ( 94.41)\n",
            "Test: [250/704]\tTime  0.012 ( 0.059)\tLoss 2.4214e+00 (1.6284e+00)\tAcc@1  14.84 ( 36.65)\tAcc@5  69.53 ( 91.75)\n",
            "Test: [300/704]\tTime  0.011 ( 0.057)\tLoss 2.3782e+00 (1.7178e+00)\tAcc@1  19.53 ( 33.53)\tAcc@5  80.47 ( 90.28)\n",
            "Test: [350/704]\tTime  0.044 ( 0.056)\tLoss 1.9977e+00 (1.7677e+00)\tAcc@1  28.12 ( 32.62)\tAcc@5  83.59 ( 89.52)\n",
            "Test: [400/704]\tTime  0.011 ( 0.055)\tLoss 2.2681e+00 (1.8187e+00)\tAcc@1  27.34 ( 32.18)\tAcc@5  75.78 ( 87.97)\n",
            "Test: [450/704]\tTime  0.020 ( 0.056)\tLoss 1.1815e+00 (1.8164e+00)\tAcc@1  67.97 ( 33.34)\tAcc@5  91.41 ( 87.37)\n",
            "Test: [500/704]\tTime  0.011 ( 0.058)\tLoss 1.7398e+00 (1.7765e+00)\tAcc@1  40.62 ( 36.00)\tAcc@5  86.72 ( 87.55)\n",
            "Test: [550/704]\tTime  0.062 ( 0.057)\tLoss 2.5751e+00 (1.7925e+00)\tAcc@1  26.56 ( 36.36)\tAcc@5  75.78 ( 86.94)\n",
            "Test: [600/704]\tTime  0.051 ( 0.057)\tLoss 1.6523e+00 (1.7571e+00)\tAcc@1  45.31 ( 38.13)\tAcc@5  94.53 ( 87.42)\n",
            "Test: [650/704]\tTime  0.021 ( 0.056)\tLoss 1.1022e+00 (1.7094e+00)\tAcc@1  61.72 ( 39.79)\tAcc@5  94.53 ( 88.06)\n",
            "Test: [700/704]\tTime  0.088 ( 0.056)\tLoss 1.1947e+00 (1.6743e+00)\tAcc@1  33.59 ( 39.76)\tAcc@5  97.66 ( 88.62)\n",
            " * Acc@1 39.751 Acc@5 88.647\n",
            "lr: [0.099778098230154]\n",
            "Epoch: [3][  0/704]\tTime  0.516 ( 0.516)\tData  0.466 ( 0.466)\tLoss 1.7867e+00 (1.7867e+00)\tAcc@1  42.19 ( 42.19)\tAcc@5  86.72 ( 86.72)\n",
            "Epoch: [3][ 50/704]\tTime  0.136 ( 0.106)\tData  0.107 ( 0.073)\tLoss 1.4875e+00 (1.6155e+00)\tAcc@1  45.31 ( 40.76)\tAcc@5  89.84 ( 90.29)\n",
            "Epoch: [3][100/704]\tTime  0.036 ( 0.088)\tData  0.001 ( 0.058)\tLoss 1.3846e+00 (1.5791e+00)\tAcc@1  51.56 ( 41.99)\tAcc@5  93.75 ( 90.74)\n",
            "Epoch: [3][150/704]\tTime  0.100 ( 0.082)\tData  0.075 ( 0.052)\tLoss 1.5718e+00 (1.5803e+00)\tAcc@1  40.62 ( 41.70)\tAcc@5  92.19 ( 90.72)\n",
            "Epoch: [3][200/704]\tTime  0.050 ( 0.086)\tData  0.006 ( 0.057)\tLoss 1.6454e+00 (1.5765e+00)\tAcc@1  48.44 ( 41.81)\tAcc@5  85.94 ( 90.81)\n",
            "Epoch: [3][250/704]\tTime  0.040 ( 0.085)\tData  0.001 ( 0.056)\tLoss 1.4945e+00 (1.5661e+00)\tAcc@1  38.28 ( 42.17)\tAcc@5  91.41 ( 91.00)\n",
            "Epoch: [3][300/704]\tTime  0.109 ( 0.083)\tData  0.086 ( 0.054)\tLoss 1.3046e+00 (1.5602e+00)\tAcc@1  54.69 ( 42.43)\tAcc@5  93.75 ( 91.10)\n",
            "Epoch: [3][350/704]\tTime  0.069 ( 0.081)\tData  0.038 ( 0.052)\tLoss 1.5636e+00 (1.5562e+00)\tAcc@1  38.28 ( 42.55)\tAcc@5  92.19 ( 91.10)\n",
            "Epoch: [3][400/704]\tTime  0.042 ( 0.085)\tData  0.002 ( 0.055)\tLoss 1.5133e+00 (1.5513e+00)\tAcc@1  42.97 ( 42.66)\tAcc@5  95.31 ( 91.18)\n",
            "Epoch: [3][450/704]\tTime  0.038 ( 0.083)\tData  0.000 ( 0.054)\tLoss 1.6883e+00 (1.5519e+00)\tAcc@1  41.41 ( 42.67)\tAcc@5  85.16 ( 91.14)\n",
            "Epoch: [3][500/704]\tTime  0.042 ( 0.082)\tData  0.001 ( 0.053)\tLoss 1.6790e+00 (1.5484e+00)\tAcc@1  39.06 ( 42.81)\tAcc@5  91.41 ( 91.19)\n",
            "Epoch: [3][550/704]\tTime  0.213 ( 0.082)\tData  0.190 ( 0.053)\tLoss 1.5747e+00 (1.5472e+00)\tAcc@1  39.06 ( 42.87)\tAcc@5  90.62 ( 91.17)\n",
            "Epoch: [3][600/704]\tTime  0.025 ( 0.083)\tData  0.001 ( 0.054)\tLoss 1.4771e+00 (1.5444e+00)\tAcc@1  39.06 ( 42.96)\tAcc@5  94.53 ( 91.19)\n",
            "Epoch: [3][650/704]\tTime  0.027 ( 0.082)\tData  0.001 ( 0.053)\tLoss 1.4987e+00 (1.5404e+00)\tAcc@1  48.44 ( 43.11)\tAcc@5  89.84 ( 91.25)\n",
            "Epoch: [3][700/704]\tTime  0.032 ( 0.081)\tData  0.006 ( 0.053)\tLoss 1.4087e+00 (1.5362e+00)\tAcc@1  47.66 ( 43.25)\tAcc@5  92.19 ( 91.31)\n",
            "Test: [  0/704]\tTime  0.230 ( 0.230)\tLoss 1.2981e+00 (1.2981e+00)\tAcc@1  59.38 ( 59.38)\tAcc@5  89.84 ( 89.84)\n",
            "Test: [ 50/704]\tTime  0.134 ( 0.071)\tLoss 1.0755e+00 (1.2552e+00)\tAcc@1  57.03 ( 54.69)\tAcc@5  96.09 ( 91.99)\n",
            "Test: [100/704]\tTime  0.064 ( 0.073)\tLoss 9.3005e-01 (1.2018e+00)\tAcc@1  71.88 ( 57.53)\tAcc@5  92.97 ( 92.13)\n",
            "Test: [150/704]\tTime  0.072 ( 0.065)\tLoss 1.4949e+00 (1.2590e+00)\tAcc@1  44.53 ( 56.60)\tAcc@5  96.88 ( 91.20)\n",
            "Test: [200/704]\tTime  0.085 ( 0.062)\tLoss 1.3432e+00 (1.3343e+00)\tAcc@1  53.12 ( 53.28)\tAcc@5  98.44 ( 92.37)\n",
            "Test: [250/704]\tTime  0.030 ( 0.059)\tLoss 1.1537e+00 (1.3295e+00)\tAcc@1  73.44 ( 54.41)\tAcc@5  96.88 ( 93.21)\n",
            "Test: [300/704]\tTime  0.018 ( 0.059)\tLoss 1.7657e+00 (1.3368e+00)\tAcc@1  27.34 ( 53.68)\tAcc@5  96.88 ( 94.03)\n",
            "Test: [350/704]\tTime  0.011 ( 0.062)\tLoss 1.5087e+00 (1.3634e+00)\tAcc@1  32.03 ( 51.02)\tAcc@5  99.22 ( 94.66)\n",
            "Test: [400/704]\tTime  0.012 ( 0.061)\tLoss 1.7063e+00 (1.4056e+00)\tAcc@1   9.38 ( 47.08)\tAcc@5  95.31 ( 94.54)\n",
            "Test: [450/704]\tTime  0.018 ( 0.059)\tLoss 1.5113e+00 (1.4599e+00)\tAcc@1  44.53 ( 44.64)\tAcc@5  90.62 ( 93.78)\n",
            "Test: [500/704]\tTime  0.063 ( 0.059)\tLoss 1.2253e+00 (1.4834e+00)\tAcc@1  56.25 ( 44.29)\tAcc@5  95.31 ( 92.96)\n",
            "Test: [550/704]\tTime  0.154 ( 0.059)\tLoss 1.6529e+00 (1.4634e+00)\tAcc@1  45.31 ( 45.55)\tAcc@5  85.94 ( 92.94)\n",
            "Test: [600/704]\tTime  0.011 ( 0.061)\tLoss 1.9726e+00 (1.4597e+00)\tAcc@1  38.28 ( 46.23)\tAcc@5  76.56 ( 92.67)\n",
            "Test: [650/704]\tTime  0.077 ( 0.060)\tLoss 1.4379e+00 (1.4553e+00)\tAcc@1  60.94 ( 46.82)\tAcc@5  89.06 ( 92.48)\n",
            "Test: [700/704]\tTime  0.071 ( 0.059)\tLoss 1.4139e+00 (1.4570e+00)\tAcc@1  34.38 ( 46.71)\tAcc@5  96.09 ( 92.29)\n",
            " * Acc@1 46.687 Acc@5 92.291\n",
            "lr: [0.0996057350657239]\n",
            "Epoch: [4][  0/704]\tTime  0.335 ( 0.335)\tData  0.286 ( 0.286)\tLoss 1.5247e+00 (1.5247e+00)\tAcc@1  45.31 ( 45.31)\tAcc@5  92.19 ( 92.19)\n",
            "Epoch: [4][ 50/704]\tTime  0.095 ( 0.076)\tData  0.068 ( 0.049)\tLoss 1.6479e+00 (1.5188e+00)\tAcc@1  44.53 ( 44.22)\tAcc@5  89.84 ( 91.85)\n",
            "Epoch: [4][100/704]\tTime  0.198 ( 0.094)\tData  0.177 ( 0.063)\tLoss 1.3888e+00 (1.5074e+00)\tAcc@1  50.78 ( 44.52)\tAcc@5  90.62 ( 91.94)\n",
            "Epoch: [4][150/704]\tTime  0.122 ( 0.085)\tData  0.098 ( 0.057)\tLoss 1.3796e+00 (1.4955e+00)\tAcc@1  49.22 ( 45.06)\tAcc@5  94.53 ( 92.06)\n",
            "Epoch: [4][200/704]\tTime  0.073 ( 0.082)\tData  0.055 ( 0.054)\tLoss 1.5126e+00 (1.4862e+00)\tAcc@1  46.09 ( 45.33)\tAcc@5  93.75 ( 92.32)\n",
            "Epoch: [4][250/704]\tTime  0.225 ( 0.080)\tData  0.202 ( 0.053)\tLoss 1.5623e+00 (1.4844e+00)\tAcc@1  39.84 ( 45.51)\tAcc@5  93.75 ( 92.30)\n",
            "Epoch: [4][300/704]\tTime  0.043 ( 0.084)\tData  0.007 ( 0.057)\tLoss 1.4386e+00 (1.4803e+00)\tAcc@1  49.22 ( 45.75)\tAcc@5  90.62 ( 92.40)\n",
            "Epoch: [4][350/704]\tTime  0.120 ( 0.082)\tData  0.100 ( 0.055)\tLoss 1.4621e+00 (1.4750e+00)\tAcc@1  48.44 ( 45.98)\tAcc@5  91.41 ( 92.38)\n",
            "Epoch: [4][400/704]\tTime  0.093 ( 0.080)\tData  0.067 ( 0.054)\tLoss 1.5099e+00 (1.4700e+00)\tAcc@1  44.53 ( 46.13)\tAcc@5  88.28 ( 92.42)\n",
            "Epoch: [4][450/704]\tTime  0.049 ( 0.081)\tData  0.002 ( 0.054)\tLoss 1.3850e+00 (1.4685e+00)\tAcc@1  48.44 ( 46.23)\tAcc@5  93.75 ( 92.35)\n",
            "Epoch: [4][500/704]\tTime  0.040 ( 0.082)\tData  0.001 ( 0.056)\tLoss 1.4862e+00 (1.4637e+00)\tAcc@1  48.44 ( 46.34)\tAcc@5  90.62 ( 92.41)\n",
            "Epoch: [4][550/704]\tTime  0.037 ( 0.081)\tData  0.006 ( 0.054)\tLoss 1.5476e+00 (1.4614e+00)\tAcc@1  45.31 ( 46.39)\tAcc@5  89.06 ( 92.44)\n",
            "Epoch: [4][600/704]\tTime  0.037 ( 0.080)\tData  0.001 ( 0.053)\tLoss 1.4885e+00 (1.4592e+00)\tAcc@1  49.22 ( 46.49)\tAcc@5  89.84 ( 92.50)\n",
            "Epoch: [4][650/704]\tTime  0.257 ( 0.082)\tData  0.196 ( 0.055)\tLoss 1.4104e+00 (1.4567e+00)\tAcc@1  51.56 ( 46.67)\tAcc@5  94.53 ( 92.51)\n",
            "Epoch: [4][700/704]\tTime  0.062 ( 0.082)\tData  0.044 ( 0.054)\tLoss 1.4197e+00 (1.4547e+00)\tAcc@1  42.97 ( 46.77)\tAcc@5  96.09 ( 92.52)\n",
            "Test: [  0/704]\tTime  0.242 ( 0.242)\tLoss 1.2208e+00 (1.2208e+00)\tAcc@1  52.34 ( 52.34)\tAcc@5  92.19 ( 92.19)\n",
            "Test: [ 50/704]\tTime  0.086 ( 0.055)\tLoss 1.0298e+00 (1.2686e+00)\tAcc@1  55.47 ( 52.83)\tAcc@5  98.44 ( 92.62)\n",
            "Test: [100/704]\tTime  0.075 ( 0.052)\tLoss 8.7536e-01 (1.2214e+00)\tAcc@1  70.31 ( 55.22)\tAcc@5  94.53 ( 93.09)\n",
            "Test: [150/704]\tTime  0.168 ( 0.055)\tLoss 1.5377e+00 (1.2762e+00)\tAcc@1  46.88 ( 54.12)\tAcc@5  96.88 ( 92.53)\n",
            "Test: [200/704]\tTime  0.082 ( 0.061)\tLoss 1.6486e+00 (1.3762e+00)\tAcc@1  40.62 ( 49.59)\tAcc@5  99.22 ( 93.43)\n",
            "Test: [250/704]\tTime  0.081 ( 0.059)\tLoss 1.4678e+00 (1.3984e+00)\tAcc@1  51.56 ( 48.56)\tAcc@5  95.31 ( 93.91)\n",
            "Test: [300/704]\tTime  0.037 ( 0.057)\tLoss 1.8045e+00 (1.4219e+00)\tAcc@1  33.59 ( 47.35)\tAcc@5  95.31 ( 94.29)\n",
            "Test: [350/704]\tTime  0.053 ( 0.056)\tLoss 1.4296e+00 (1.4330e+00)\tAcc@1  43.75 ( 47.08)\tAcc@5  96.09 ( 94.55)\n",
            "Test: [400/704]\tTime  0.034 ( 0.056)\tLoss 1.6723e+00 (1.4520e+00)\tAcc@1  21.88 ( 45.21)\tAcc@5  96.09 ( 94.83)\n",
            "Test: [450/704]\tTime  0.159 ( 0.059)\tLoss 8.0563e-01 (1.4513e+00)\tAcc@1  72.66 ( 45.11)\tAcc@5  96.09 ( 94.83)\n",
            "Test: [500/704]\tTime  0.088 ( 0.058)\tLoss 1.2563e+00 (1.4134e+00)\tAcc@1  57.81 ( 47.17)\tAcc@5  91.41 ( 94.65)\n",
            "Test: [550/704]\tTime  0.068 ( 0.058)\tLoss 1.4483e+00 (1.3933e+00)\tAcc@1  59.38 ( 48.49)\tAcc@5  92.97 ( 94.24)\n",
            "Test: [600/704]\tTime  0.083 ( 0.057)\tLoss 1.3957e+00 (1.3594e+00)\tAcc@1  56.25 ( 50.31)\tAcc@5  82.81 ( 94.06)\n",
            "Test: [650/704]\tTime  0.069 ( 0.056)\tLoss 1.4978e+00 (1.3408e+00)\tAcc@1  57.03 ( 51.43)\tAcc@5  88.28 ( 93.91)\n",
            "Test: [700/704]\tTime  0.105 ( 0.058)\tLoss 1.3984e+00 (1.3577e+00)\tAcc@1  42.19 ( 50.80)\tAcc@5  93.75 ( 93.59)\n",
            " * Acc@1 50.782 Acc@5 93.594\n",
            "lr: [0.09938441702975688]\n"
          ]
        }
      ],
      "source": [
        "for epoch in range(START_EPOCH, EPOCHS):\n",
        "#    adjust_learning_rate(optimizer, epoch)\n",
        "\n",
        "    # train for one epoch\n",
        "    train(train_loader, model, criterion, optimizer, epoch)\n",
        "\n",
        "\n",
        "    # evaluate on validation set\n",
        "    acc1 = validate(val_loader, model, criterion)\n",
        "\n",
        "    # remember best acc@1 and save checkpoint\n",
        "    is_best = acc1 > best_acc1\n",
        "    best_acc1 = max(acc1, best_acc1)\n",
        "\n",
        "\n",
        "    save_checkpoint({\n",
        "        'epoch': epoch + 1,\n",
        "        'arch': ARCH,\n",
        "        'state_dict': model.state_dict(),\n",
        "        'best_acc1': best_acc1,\n",
        "        'optimizer' : optimizer.state_dict(),\n",
        "    }, is_best)\n",
        "    \n",
        "    scheduler.step()\n",
        "    print('lr: ' + str(scheduler.get_last_lr()))"
      ]
    }
  ],
  "metadata": {
    "kernelspec": {
      "display_name": "Python 3",
      "language": "python",
      "name": "python3"
    },
    "language_info": {
      "codemirror_mode": {
        "name": "ipython",
        "version": 3
      },
      "file_extension": ".py",
      "mimetype": "text/x-python",
      "name": "python",
      "nbconvert_exporter": "python",
      "pygments_lexer": "ipython3",
      "version": "3.6.9"
    },
    "colab": {
      "provenance": []
    },
    "accelerator": "GPU",
    "gpuClass": "standard"
  },
  "nbformat": 4,
  "nbformat_minor": 5
}